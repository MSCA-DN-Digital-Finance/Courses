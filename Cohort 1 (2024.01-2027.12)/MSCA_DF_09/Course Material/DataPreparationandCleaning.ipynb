{
  "nbformat": 4,
  "nbformat_minor": 0,
  "metadata": {
    "colab": {
      "provenance": []
    },
    "kernelspec": {
      "name": "python3",
      "display_name": "Python 3"
    },
    "language_info": {
      "name": "python"
    }
  },
  "cells": [
    {
      "cell_type": "markdown",
      "source": [
        "Step-by-Step Google Colab Lab: Data Preparation and Cleaning\n",
        "1. Import Necessary Libraries\n",
        "Start by loading essential libraries for data manipulation and visualization."
      ],
      "metadata": {
        "id": "XvB380MPZwPu"
      }
    },
    {
      "cell_type": "code",
      "execution_count": null,
      "metadata": {
        "id": "QAcItCGtZvKY"
      },
      "outputs": [],
      "source": [
        "# Importing libraries\n",
        "import pandas as pd\n",
        "import numpy as np\n",
        "import matplotlib.pyplot as plt\n",
        "import seaborn as sns\n",
        "\n",
        "print(\"Libraries loaded successfully!\")"
      ]
    },
    {
      "cell_type": "markdown",
      "source": [
        "2. Load a Sample Dataset\n",
        "We’ll use a sample dataset to demonstrate data cleaning techniques. The dataset contains missing values, duplicates, and inconsistent data."
      ],
      "metadata": {
        "id": "bL5honF2Z4BM"
      }
    },
    {
      "cell_type": "code",
      "source": [
        "# Creating a sample dataset\n",
        "data = {\n",
        "    'Name': ['Alice', 'Bob', 'Charlie', 'David', 'Ella', 'Frank', 'Grace', 'Alice'],\n",
        "    'Age': [24, 27, 22, None, 29, 24, None, 24],\n",
        "    'Gender': ['Female', 'Male', 'Male', None, 'Female', 'Male', 'Female', 'Female'],\n",
        "    'Salary': [50000, 54000, 58000, 62000, None, 45000, None, 50000],\n",
        "    'Joining Date': ['2021-01-15', '2020-05-20', None, '2019-08-10', '2021-07-01', '2020-12-05', None, '2021-01-15']\n",
        "}\n",
        "\n",
        "# Converting to a DataFrame\n",
        "df = pd.DataFrame(data)\n",
        "\n",
        "# Displaying the dataset\n",
        "print(\"Original Dataset:\")\n",
        "print(df)"
      ],
      "metadata": {
        "id": "lwEyhZweZ4tM"
      },
      "execution_count": null,
      "outputs": []
    },
    {
      "cell_type": "markdown",
      "source": [
        "3. Identify Missing Values\n",
        "Check for missing values in the dataset."
      ],
      "metadata": {
        "id": "FeoTMb8mZ67D"
      }
    },
    {
      "cell_type": "code",
      "source": [
        "# Checking for missing values\n",
        "print(\"\\nMissing Values (per column):\")\n",
        "print(df.isnull().sum())\n",
        "\n",
        "# Visualizing missing values\n",
        "sns.heatmap(df.isnull(), cbar=False, cmap='viridis')\n",
        "plt.title(\"Visualization of Missing Values\")\n",
        "plt.show()"
      ],
      "metadata": {
        "id": "07m6hHN9Z9Wc"
      },
      "execution_count": null,
      "outputs": []
    },
    {
      "cell_type": "markdown",
      "source": [
        "4. Handling Missing Values\n",
        "Use different techniques to fill or drop missing values."
      ],
      "metadata": {
        "id": "ifQ6rHK-aCMD"
      }
    },
    {
      "cell_type": "code",
      "source": [
        "# Dropping rows with all missing values\n",
        "df = df.dropna(how='all')\n",
        "\n",
        "# Filling missing values\n",
        "df['Age'].fillna(df['Age'].mean(), inplace=True)  # Fill with mean for numerical data\n",
        "df['Salary'].fillna(df['Salary'].median(), inplace=True)  # Fill with median for numerical data\n",
        "df['Gender'].fillna('Unknown', inplace=True)  # Fill with a placeholder for categorical data\n",
        "df['Joining Date'].fillna('2020-01-01', inplace=True)  # Fill with a default date\n",
        "\n",
        "print(\"\\nDataset after handling missing values:\")\n",
        "print(df)"
      ],
      "metadata": {
        "id": "Z8Iy55OSaDDr"
      },
      "execution_count": null,
      "outputs": []
    },
    {
      "cell_type": "markdown",
      "source": [
        "5. Handling Duplicates\n",
        "Check and remove duplicate rows."
      ],
      "metadata": {
        "id": "Yljty9pRaG5c"
      }
    },
    {
      "cell_type": "code",
      "source": [
        "# Checking for duplicate rows\n",
        "print(\"\\nDuplicate Rows:\")\n",
        "print(df[df.duplicated()])\n",
        "\n",
        "# Removing duplicate rows\n",
        "df = df.drop_duplicates()\n",
        "\n",
        "print(\"\\nDataset after removing duplicates:\")\n",
        "print(df)"
      ],
      "metadata": {
        "id": "shKS2b4jaHkc"
      },
      "execution_count": null,
      "outputs": []
    },
    {
      "cell_type": "markdown",
      "source": [
        "6. Handling Inconsistent Data\n",
        "Standardize inconsistent or incorrect entries."
      ],
      "metadata": {
        "id": "d8-nSjLpaKL7"
      }
    },
    {
      "cell_type": "code",
      "source": [
        "# Standardizing Gender column values\n",
        "df['Gender'] = df['Gender'].str.capitalize()\n",
        "\n",
        "# Verifying standardized data\n",
        "print(\"\\nDataset after standardizing Gender column:\")\n",
        "print(df)"
      ],
      "metadata": {
        "id": "gMnZ8mEeaN9c"
      },
      "execution_count": null,
      "outputs": []
    },
    {
      "cell_type": "markdown",
      "source": [
        "7. Converting Data Types\n",
        "Ensure all columns have appropriate data types."
      ],
      "metadata": {
        "id": "BxtYNDjLaQUN"
      }
    },
    {
      "cell_type": "code",
      "source": [
        "# Converting Joining Date to datetime\n",
        "df['Joining Date'] = pd.to_datetime(df['Joining Date'])\n",
        "\n",
        "# Verifying data types\n",
        "print(\"\\nData Types after conversion:\")\n",
        "print(df.dtypes)"
      ],
      "metadata": {
        "id": "Twi0JySRaSXr"
      },
      "execution_count": null,
      "outputs": []
    },
    {
      "cell_type": "markdown",
      "source": [
        "8. Detecting Outliers\n",
        "Visualize and handle outliers in numerical data."
      ],
      "metadata": {
        "id": "jD5VGM0FaUbj"
      }
    },
    {
      "cell_type": "code",
      "source": [
        "# Visualizing outliers in Salary\n",
        "plt.boxplot(df['Salary'])\n",
        "plt.title(\"Boxplot of Salary (Detecting Outliers)\")\n",
        "plt.show()\n",
        "\n",
        "# Handling outliers by capping values\n",
        "upper_limit = df['Salary'].mean() + 3 * df['Salary'].std()\n",
        "lower_limit = df['Salary'].mean() - 3 * df['Salary'].std()\n",
        "\n",
        "df['Salary'] = np.where(df['Salary'] > upper_limit, upper_limit, df['Salary'])\n",
        "df['Salary'] = np.where(df['Salary'] < lower_limit, lower_limit, df['Salary'])\n",
        "\n",
        "print(\"\\nDataset after handling outliers in Salary:\")\n",
        "print(df)"
      ],
      "metadata": {
        "id": "vH_FB0J8aW80"
      },
      "execution_count": null,
      "outputs": []
    },
    {
      "cell_type": "markdown",
      "source": [
        "9. Feature Engineering\n",
        "Add new columns based on existing data."
      ],
      "metadata": {
        "id": "W0IZOBKVabkj"
      }
    },
    {
      "cell_type": "code",
      "source": [
        "# Adding a column for years of experience\n",
        "df['Years of Experience'] = 2025 - pd.DatetimeIndex(df['Joining Date']).year\n",
        "\n",
        "print(\"\\nDataset after adding 'Years of Experience':\")\n",
        "print(df)"
      ],
      "metadata": {
        "id": "LcjhKRgDaZTT"
      },
      "execution_count": null,
      "outputs": []
    },
    {
      "cell_type": "markdown",
      "source": [
        "\n",
        "10. Final Cleaned Dataset\n",
        "Display the final cleaned and prepared dataset."
      ],
      "metadata": {
        "id": "J8Iu6zB_ahRU"
      }
    },
    {
      "cell_type": "code",
      "source": [
        "print(\"\\nFinal Cleaned Dataset:\")\n",
        "print(df)\n",
        "\n",
        "# Save the cleaned dataset to a CSV file\n",
        "df.to_csv('cleaned_dataset.csv', index=False)\n",
        "print(\"\\nCleaned dataset saved as 'cleaned_dataset.csv'.\")"
      ],
      "metadata": {
        "id": "6I2GJ_OkZ-2T"
      },
      "execution_count": null,
      "outputs": []
    },
    {
      "cell_type": "markdown",
      "source": [
        "Descriptive Analysis"
      ],
      "metadata": {
        "id": "y9A4QVSzbFrz"
      }
    },
    {
      "cell_type": "code",
      "source": [
        "# Import necessary libraries\n",
        "import pandas as pd\n",
        "import numpy as np\n",
        "import matplotlib.pyplot as plt\n",
        "import seaborn as sns\n",
        "\n",
        "# Create a sample dataset (raw, with issues)\n",
        "data = {\n",
        "    'Name': ['Alice', 'Bob', 'Charlie', 'David', 'Ella', 'Frank', 'Grace', 'Alice'],\n",
        "    'Age': [24, 27, None, 35, 29, 24, None, 24],\n",
        "    'Gender': ['Female', 'Male', 'Male', None, 'Female', 'Male', 'Female', 'Female'],\n",
        "    'Salary': [50000, 54000, 58000, 62000, None, 45000, None, 50000],\n",
        "    'Joining Date': ['2021-01-15', '2020-05-20', None, '2019-08-10', '2021-07-01', '2020-12-05', None, '2021-01-15']\n",
        "}\n",
        "\n",
        "# Convert to a DataFrame\n",
        "df = pd.DataFrame(data)\n",
        "\n",
        "# Display the raw dataset\n",
        "print(\"Raw Dataset:\")\n",
        "print(df)\n",
        "\n",
        "# Step 1: Handling Missing Values\n",
        "df['Age'].fillna(df['Age'].mean(), inplace=True)  # Fill missing Age with mean\n",
        "df['Salary'].fillna(df['Salary'].median(), inplace=True)  # Fill missing Salary with median\n",
        "df['Gender'].fillna('Unknown', inplace=True)  # Fill missing Gender with \"Unknown\"\n",
        "df['Joining Date'].fillna('2020-01-01', inplace=True)  # Fill missing Joining Date with a default date\n",
        "\n",
        "# Step 2: Removing Duplicates\n",
        "df.drop_duplicates(inplace=True)\n",
        "\n",
        "# Step 3: Standardizing Data\n",
        "df['Gender'] = df['Gender'].str.capitalize()  # Capitalize Gender column\n",
        "\n",
        "# Step 4: Converting Data Types\n",
        "df['Joining Date'] = pd.to_datetime(df['Joining Date'])  # Convert Joining Date to datetime\n",
        "\n",
        "# Step 5: Handling Outliers (Capping Salary values)\n",
        "upper_limit = df['Salary'].mean() + 3 * df['Salary'].std()\n",
        "lower_limit = df['Salary'].mean() - 3 * df['Salary'].std()\n",
        "df['Salary'] = np.where(df['Salary'] > upper_limit, upper_limit, df['Salary'])\n",
        "df['Salary'] = np.where(df['Salary'] < lower_limit, lower_limit, df['Salary'])\n",
        "\n",
        "# Step 6: Adding Features\n",
        "df['Years of Experience'] = 2025 - df['Joining Date'].dt.year  # Add new feature\n",
        "\n",
        "# Display the cleaned dataset\n",
        "print(\"\\nCleaned Dataset:\")\n",
        "print(df)"
      ],
      "metadata": {
        "colab": {
          "base_uri": "https://localhost:8080/"
        },
        "id": "jXIV9Op5bF67",
        "outputId": "64f54db2-59e0-47d0-972c-f82ba879e276"
      },
      "execution_count": 1,
      "outputs": [
        {
          "output_type": "stream",
          "name": "stdout",
          "text": [
            "Raw Dataset:\n",
            "      Name   Age  Gender   Salary Joining Date\n",
            "0    Alice  24.0  Female  50000.0   2021-01-15\n",
            "1      Bob  27.0    Male  54000.0   2020-05-20\n",
            "2  Charlie   NaN    Male  58000.0         None\n",
            "3    David  35.0    None  62000.0   2019-08-10\n",
            "4     Ella  29.0  Female      NaN   2021-07-01\n",
            "5    Frank  24.0    Male  45000.0   2020-12-05\n",
            "6    Grace   NaN  Female      NaN         None\n",
            "7    Alice  24.0  Female  50000.0   2021-01-15\n",
            "\n",
            "Cleaned Dataset:\n",
            "      Name        Age   Gender   Salary Joining Date  Years of Experience\n",
            "0    Alice  24.000000   Female  50000.0   2021-01-15                    4\n",
            "1      Bob  27.000000     Male  54000.0   2020-05-20                    5\n",
            "2  Charlie  27.166667     Male  58000.0   2020-01-01                    5\n",
            "3    David  35.000000  Unknown  62000.0   2019-08-10                    6\n",
            "4     Ella  29.000000   Female  52000.0   2021-07-01                    4\n",
            "5    Frank  24.000000     Male  45000.0   2020-12-05                    5\n",
            "6    Grace  27.166667   Female  52000.0   2020-01-01                    5\n"
          ]
        },
        {
          "output_type": "stream",
          "name": "stderr",
          "text": [
            "<ipython-input-1-90a5c23978fa>:24: FutureWarning: A value is trying to be set on a copy of a DataFrame or Series through chained assignment using an inplace method.\n",
            "The behavior will change in pandas 3.0. This inplace method will never work because the intermediate object on which we are setting values always behaves as a copy.\n",
            "\n",
            "For example, when doing 'df[col].method(value, inplace=True)', try using 'df.method({col: value}, inplace=True)' or df[col] = df[col].method(value) instead, to perform the operation inplace on the original object.\n",
            "\n",
            "\n",
            "  df['Age'].fillna(df['Age'].mean(), inplace=True)  # Fill missing Age with mean\n",
            "<ipython-input-1-90a5c23978fa>:25: FutureWarning: A value is trying to be set on a copy of a DataFrame or Series through chained assignment using an inplace method.\n",
            "The behavior will change in pandas 3.0. This inplace method will never work because the intermediate object on which we are setting values always behaves as a copy.\n",
            "\n",
            "For example, when doing 'df[col].method(value, inplace=True)', try using 'df.method({col: value}, inplace=True)' or df[col] = df[col].method(value) instead, to perform the operation inplace on the original object.\n",
            "\n",
            "\n",
            "  df['Salary'].fillna(df['Salary'].median(), inplace=True)  # Fill missing Salary with median\n",
            "<ipython-input-1-90a5c23978fa>:26: FutureWarning: A value is trying to be set on a copy of a DataFrame or Series through chained assignment using an inplace method.\n",
            "The behavior will change in pandas 3.0. This inplace method will never work because the intermediate object on which we are setting values always behaves as a copy.\n",
            "\n",
            "For example, when doing 'df[col].method(value, inplace=True)', try using 'df.method({col: value}, inplace=True)' or df[col] = df[col].method(value) instead, to perform the operation inplace on the original object.\n",
            "\n",
            "\n",
            "  df['Gender'].fillna('Unknown', inplace=True)  # Fill missing Gender with \"Unknown\"\n",
            "<ipython-input-1-90a5c23978fa>:27: FutureWarning: A value is trying to be set on a copy of a DataFrame or Series through chained assignment using an inplace method.\n",
            "The behavior will change in pandas 3.0. This inplace method will never work because the intermediate object on which we are setting values always behaves as a copy.\n",
            "\n",
            "For example, when doing 'df[col].method(value, inplace=True)', try using 'df.method({col: value}, inplace=True)' or df[col] = df[col].method(value) instead, to perform the operation inplace on the original object.\n",
            "\n",
            "\n",
            "  df['Joining Date'].fillna('2020-01-01', inplace=True)  # Fill missing Joining Date with a default date\n"
          ]
        }
      ]
    },
    {
      "cell_type": "markdown",
      "source": [
        "2. Descriptive Analysis of Cleaned Data\n",
        "Once the data is cleaned, descriptive analysis verifies the quality and provides insights into the dataset.\n",
        "Explanation of Steps\n",
        "1. Data Cleaning\n",
        "Missing Values: Missing Age, Salary, and Gender values are filled with meaningful defaults (e.g., mean, median, or placeholder).\n",
        "Duplicates: Duplicate rows are identified and removed.\n",
        "Standardization: Ensures categorical data (e.g., Gender) is consistent.\n",
        "Outliers: Extreme values in Salary are capped to avoid skewing the analysis.\n",
        "New Features: Adds Years of Experience based on the Joining Date.\n",
        "2. Descriptive Analysis\n",
        "Descriptive Statistics: Provides key metrics like mean, median, variance, and standard deviation for numerical data.\n",
        "Visualizations:\n",
        "Histogram: Shows the distribution of Age.\n",
        "Boxplot: Highlights outliers and spread in Salary.\n",
        "Heatmap: Displays correlations between numerical columns.Filter Numeric Columns: The select_dtypes(include=[np.number]) function selects only numerical columns (like Age, Salary, Years of Experience) from the dataset.\n",
        "Handle Non-Numeric Data: Non-numeric columns (Name, Gender, etc.) are excluded from the correlation computation.\n",
        "Check for Empty Data: If there are no numeric columns in the dataset, the code gracefully handles the situation by printing a message instead of attempting to plot an empty heatmap.\n",
        "Countplot: Shows the distribution of Gender.\n",
        "Expected Output\n",
        "Cleaned Dataset\n",
        "A tabular dataset with no missing values, duplicates removed, and consistent formatting.\n",
        "\n",
        "Descriptive Analysis\n",
        "Key Summary Statistics:\n",
        "Mean, median, and mode for numerical columns.\n",
        "Variance and standard deviation to understand the spread.\n",
        "Visual Insights:\n",
        "Distribution of Age via histogram.\n",
        "Outliers in Salary via boxplot.\n",
        "Relationships between numerical columns via a correlation heatmap.\n",
        "Gender distribution via a countplot.\n",
        "\n"
      ],
      "metadata": {
        "id": "TcZwGVtGbkfs"
      }
    },
    {
      "cell_type": "code",
      "source": [
        "# Descriptive Statistics\n",
        "print(\"\\nDescriptive Statistics:\")\n",
        "print(df.describe(include='all'))  # Include all columns\n",
        "\n",
        "# Individual Descriptive Metrics\n",
        "print(\"\\nAdditional Descriptive Metrics:\")\n",
        "print(f\"Mean Age: {df['Age'].mean():.2f}\")\n",
        "print(f\"Median Salary: {df['Salary'].median():.2f}\")\n",
        "print(f\"Mode of Gender: {df['Gender'].mode()[0]}\")\n",
        "print(f\"Variance in Age: {df['Age'].var():.2f}\")\n",
        "print(f\"Standard Deviation of Salary: {df['Salary'].std():.2f}\")\n",
        "\n",
        "# Visualizing Cleaned Data\n",
        "print(\"\\nGenerating Visualizations...\")\n",
        "\n",
        "# Histogram of Age\n",
        "plt.figure(figsize=(6, 4))\n",
        "plt.hist(df['Age'], bins=5, color='skyblue', edgecolor='black')\n",
        "plt.title('Histogram of Age')\n",
        "plt.xlabel('Age')\n",
        "plt.ylabel('Frequency')\n",
        "plt.show()\n",
        "\n",
        "# Boxplot of Salary\n",
        "plt.figure(figsize=(6, 4))\n",
        "sns.boxplot(data=df['Salary'], color='lightgreen')\n",
        "plt.title('Boxplot of Salary')\n",
        "plt.xlabel('Salary ($)')\n",
        "plt.ylabel('Value')\n",
        "plt.show()\n",
        "\n",
        "# Correlation Heatmap\n",
        "# Select only numeric columns from the DataFrame\n",
        "numeric_df = df.select_dtypes(include=[np.number])\n",
        "\n",
        "# Check if there are any numeric columns\n",
        "if not numeric_df.empty:\n",
        "    # Correlation Heatmap\n",
        "    plt.figure(figsize=(6, 4))\n",
        "    sns.heatmap(numeric_df.corr(), annot=True, cmap='coolwarm', fmt=\".2f\")\n",
        "    plt.title('Correlation Heatmap')\n",
        "    plt.show()\n",
        "else:\n",
        "    print(\"No numeric columns available for correlation heatmap.\")\n",
        "\n",
        "# Countplot for Gender Distribution\n",
        "plt.figure(figsize=(6, 4))\n",
        "sns.countplot(x='Gender', data=df, palette='pastel')\n",
        "plt.title('Gender Distribution')\n",
        "plt.xlabel('Gender')\n",
        "plt.ylabel('Count')\n",
        "plt.show()"
      ],
      "metadata": {
        "colab": {
          "base_uri": "https://localhost:8080/",
          "height": 1000
        },
        "id": "Dj4e24lhbmX8",
        "outputId": "a7f337dc-af90-4205-ed1c-ff18ab964102"
      },
      "execution_count": 3,
      "outputs": [
        {
          "output_type": "stream",
          "name": "stdout",
          "text": [
            "\n",
            "Descriptive Statistics:\n",
            "         Name        Age  Gender        Salary                   Joining Date  \\\n",
            "count       7   7.000000       7      7.000000                              7   \n",
            "unique      7        NaN       3           NaN                            NaN   \n",
            "top     Alice        NaN  Female           NaN                            NaN   \n",
            "freq        1        NaN       3           NaN                            NaN   \n",
            "mean      NaN  27.619048     NaN  53285.714286  2020-06-29 06:51:25.714285824   \n",
            "min       NaN  24.000000     NaN  45000.000000            2019-08-10 00:00:00   \n",
            "25%       NaN  25.500000     NaN  51000.000000            2020-01-01 00:00:00   \n",
            "50%       NaN  27.166667     NaN  52000.000000            2020-05-20 00:00:00   \n",
            "75%       NaN  28.083333     NaN  56000.000000            2020-12-25 12:00:00   \n",
            "max       NaN  35.000000     NaN  62000.000000            2021-07-01 00:00:00   \n",
            "std       NaN   3.727667     NaN   5498.917642                            NaN   \n",
            "\n",
            "        Years of Experience  \n",
            "count              7.000000  \n",
            "unique                  NaN  \n",
            "top                     NaN  \n",
            "freq                    NaN  \n",
            "mean               4.857143  \n",
            "min                4.000000  \n",
            "25%                4.500000  \n",
            "50%                5.000000  \n",
            "75%                5.000000  \n",
            "max                6.000000  \n",
            "std                0.690066  \n",
            "\n",
            "Additional Descriptive Metrics:\n",
            "Mean Age: 27.62\n",
            "Median Salary: 52000.00\n",
            "Mode of Gender: Female\n",
            "Variance in Age: 13.90\n",
            "Standard Deviation of Salary: 5498.92\n",
            "\n",
            "Generating Visualizations...\n"
          ]
        },
        {
          "output_type": "display_data",
          "data": {
            "text/plain": [
              "<Figure size 600x400 with 1 Axes>"
            ],
            "image/png": "[encoded data removed]"
          },
          "metadata": {}
        },
        {
          "output_type": "display_data",
          "data": {
            "text/plain": [
              "<Figure size 600x400 with 1 Axes>"
            ],
            "image/png": "[encoded data removed]"
          },
          "metadata": {}
        },
        {
          "output_type": "display_data",
          "data": {
            "text/plain": [
              "<Figure size 600x400 with 2 Axes>"
            ],
            "image/png": "[encoded data removed]"
          },
          "metadata": {}
        },
        {
          "output_type": "stream",
          "name": "stderr",
          "text": [
            "<ipython-input-3-fff60c9eb2e2>:48: FutureWarning: \n",
            "\n",
            "Passing `palette` without assigning `hue` is deprecated and will be removed in v0.14.0. Assign the `x` variable to `hue` and set `legend=False` for the same effect.\n",
            "\n",
            "  sns.countplot(x='Gender', data=df, palette='pastel')\n"
          ]
        },
        {
          "output_type": "display_data",
          "data": {
            "text/plain": [
              "<Figure size 600x400 with 1 Axes>"
            ],
            "image/png": "[encoded data removed]"
          },
          "metadata": {}
        }
      ]
    }
  ]
}
