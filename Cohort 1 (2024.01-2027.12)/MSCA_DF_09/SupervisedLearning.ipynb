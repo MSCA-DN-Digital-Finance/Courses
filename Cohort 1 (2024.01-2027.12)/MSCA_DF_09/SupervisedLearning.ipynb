{
  "nbformat": 4,
  "nbformat_minor": 0,
  "metadata": {
    "colab": {
      "provenance": []
    },
    "kernelspec": {
      "name": "python3",
      "display_name": "Python 3"
    },
    "language_info": {
      "name": "python"
    }
  },
  "cells": [
    {
      "cell_type": "code",
      "execution_count": null,
      "metadata": {
        "id": "It6f3UGAc2Gb"
      },
      "outputs": [],
      "source": []
    },
    {
      "cell_type": "markdown",
      "source": [
        "Supervised Learning\n",
        "1. Logistic Regression\n",
        "Purpose: Estimates the probability of a class using a sigmoid function.\n",
        "Best For: Binary or simple multi-class problems where the relationship between features and target is linear.\n",
        "2. K-Nearest Neighbors (KNN)\n",
        "Purpose: Classifies based on the majority class of the nearest neighbors (distance-based).\n",
        "Best For: Small datasets and problems where proximity is meaningful.\n",
        "3. Support Vector Machine (SVM)\n",
        "Purpose: Finds a hyperplane that maximizes the margin between classes.\n",
        "Best For: Complex datasets with clear class boundaries.\n",
        "4. Decision Tree\n",
        "Purpose: Splits data into branches based on features to create \"pure\" leaf nodes.\n",
        "Best For: Interpretable models and datasets with non-linear relationships.\n",
        "5. Random Forest\n",
        "Purpose: Combines multiple decision trees to reduce overfitting and improve robustness.\n",
        "Best For: Large datasets where individual decision trees perform poorly.\n",
        "6. Gradient Boosting\n",
        "Purpose: Sequentially trains models to correct errors of previous ones.\n",
        "Best For: High-performance models in structured data problems.\n",
        "Step 1: Import Libraries"
      ],
      "metadata": {
        "id": "eYA6o7BXc2zA"
      }
    },
    {
      "cell_type": "code",
      "source": [
        "# Import necessary libraries\n",
        "import pandas as pd\n",
        "import numpy as np\n",
        "import matplotlib.pyplot as plt\n",
        "import seaborn as sns\n",
        "\n",
        "# Machine Learning libraries\n",
        "from sklearn.model_selection import train_test_split\n",
        "from sklearn.preprocessing import StandardScaler\n",
        "from sklearn.linear_model import LogisticRegression\n",
        "from sklearn.neighbors import KNeighborsClassifier\n",
        "from sklearn.svm import SVC\n",
        "from sklearn.tree import DecisionTreeClassifier\n",
        "from sklearn.ensemble import RandomForestClassifier, GradientBoostingClassifier\n",
        "from sklearn.metrics import classification_report, confusion_matrix, accuracy_score\n",
        "\n",
        "# Suppress warnings\n",
        "import warnings\n",
        "warnings.filterwarnings(\"ignore\")\n",
        "\n",
        "print(\"Libraries imported successfully!\")"
      ],
      "metadata": {
        "colab": {
          "base_uri": "https://localhost:8080/"
        },
        "id": "obBZ7L0-c_xz",
        "outputId": "0e97535c-0360-4a40-a559-899d28b6ae11"
      },
      "execution_count": 1,
      "outputs": [
        {
          "output_type": "stream",
          "name": "stdout",
          "text": [
            "Libraries imported successfully!\n"
          ]
        }
      ]
    },
    {
      "cell_type": "markdown",
      "source": [
        "Step 2: Load and Prepare a Dataset\n",
        "For this example, we'll use the Iris dataset, a popular dataset for classification tasks."
      ],
      "metadata": {
        "id": "vx8CT1sfdM2q"
      }
    },
    {
      "cell_type": "code",
      "source": [
        "# Load the Iris dataset\n",
        "from sklearn.datasets import load_iris\n",
        "iris = load_iris()\n",
        "\n",
        "# Convert to a DataFrame for easier manipulation\n",
        "df = pd.DataFrame(data=iris.data, columns=iris.feature_names)\n",
        "df['target'] = iris.target\n",
        "\n",
        "# Display the first few rows\n",
        "print(\"First 5 rows of the dataset:\")\n",
        "print(df.head())\n",
        "\n",
        "# Check class names\n",
        "print(\"\\nClass Names:\", iris.target_names)"
      ],
      "metadata": {
        "colab": {
          "base_uri": "https://localhost:8080/"
        },
        "id": "MqF8oKkPdMEL",
        "outputId": "5554b732-4d03-4cca-f978-1d19fbf4c292"
      },
      "execution_count": 2,
      "outputs": [
        {
          "output_type": "stream",
          "name": "stdout",
          "text": [
            "First 5 rows of the dataset:\n",
            "   sepal length (cm)  sepal width (cm)  petal length (cm)  petal width (cm)  \\\n",
            "0                5.1               3.5                1.4               0.2   \n",
            "1                4.9               3.0                1.4               0.2   \n",
            "2                4.7               3.2                1.3               0.2   \n",
            "3                4.6               3.1                1.5               0.2   \n",
            "4                5.0               3.6                1.4               0.2   \n",
            "\n",
            "   target  \n",
            "0       0  \n",
            "1       0  \n",
            "2       0  \n",
            "3       0  \n",
            "4       0  \n",
            "\n",
            "Class Names: ['setosa' 'versicolor' 'virginica']\n"
          ]
        }
      ]
    },
    {
      "cell_type": "markdown",
      "source": [
        "Step 3: Data Splitting and Scaling"
      ],
      "metadata": {
        "id": "mrPYvb6EdSXT"
      }
    },
    {
      "cell_type": "code",
      "source": [
        "# Split the data into features (X) and target (y)\n",
        "X = df.drop('target', axis=1)  # Features\n",
        "y = df['target']               # Target (class labels)\n",
        "\n",
        "# Split data into training and test sets\n",
        "X_train, X_test, y_train, y_test = train_test_split(X, y, test_size=0.3, random_state=42, stratify=y)\n",
        "\n",
        "# Standardize the features (important for algorithms like SVM and KNN)\n",
        "scaler = StandardScaler()\n",
        "X_train = scaler.fit_transform(X_train)\n",
        "X_test = scaler.transform(X_test)\n",
        "\n",
        "print(\"\\nData split and scaled successfully!\")"
      ],
      "metadata": {
        "colab": {
          "base_uri": "https://localhost:8080/"
        },
        "id": "IwHACxdqdRpb",
        "outputId": "f0a67172-436b-44ce-f46d-c40cdc34867d"
      },
      "execution_count": 11,
      "outputs": [
        {
          "output_type": "stream",
          "name": "stdout",
          "text": [
            "\n",
            "Data split and scaled successfully!\n"
          ]
        }
      ]
    },
    {
      "cell_type": "markdown",
      "source": [
        "Step 4: Train and Evaluate Models\n",
        "1. Logistic Regression"
      ],
      "metadata": {
        "id": "V0pi9Oj7dXaK"
      }
    },
    {
      "cell_type": "code",
      "source": [
        "# Train the model\n",
        "logreg = LogisticRegression()\n",
        "logreg.fit(X_train, y_train)\n",
        "\n",
        "# Predictions and evaluation\n",
        "y_pred = logreg.predict(X_test)\n",
        "print(\"\\nLogistic Regression:\")\n",
        "print(classification_report(y_test, y_pred))\n",
        "print(\"Accuracy:\", accuracy_score(y_test, y_pred))"
      ],
      "metadata": {
        "colab": {
          "base_uri": "https://localhost:8080/"
        },
        "id": "XUZeD6OkdWIS",
        "outputId": "386095a0-4918-4e8b-8c00-3b39e8d91c5d"
      },
      "execution_count": 5,
      "outputs": [
        {
          "output_type": "stream",
          "name": "stdout",
          "text": [
            "\n",
            "Logistic Regression:\n",
            "              precision    recall  f1-score   support\n",
            "\n",
            "           0       1.00      1.00      1.00        15\n",
            "           1       0.82      0.93      0.88        15\n",
            "           2       0.92      0.80      0.86        15\n",
            "\n",
            "    accuracy                           0.91        45\n",
            "   macro avg       0.92      0.91      0.91        45\n",
            "weighted avg       0.92      0.91      0.91        45\n",
            "\n",
            "Accuracy: 0.9111111111111111\n"
          ]
        }
      ]
    },
    {
      "cell_type": "markdown",
      "source": [
        "2. K-Nearest Neighbors (KNN)"
      ],
      "metadata": {
        "id": "8TSGcwwJdc8c"
      }
    },
    {
      "cell_type": "code",
      "source": [
        "# Train the model\n",
        "knn = KNeighborsClassifier(n_neighbors=5)  # K=5 is a common default\n",
        "knn.fit(X_train, y_train)\n",
        "\n",
        "# Predictions and evaluation\n",
        "y_pred = knn.predict(X_test)\n",
        "print(\"\\nK-Nearest Neighbors (KNN):\")\n",
        "print(classification_report(y_test, y_pred))\n",
        "print(\"Accuracy:\", accuracy_score(y_test, y_pred))"
      ],
      "metadata": {
        "colab": {
          "base_uri": "https://localhost:8080/"
        },
        "id": "nCBE9Z0FdaPz",
        "outputId": "696c02f3-4d72-4a9f-91cd-a53d0fd83bd8"
      },
      "execution_count": 6,
      "outputs": [
        {
          "output_type": "stream",
          "name": "stdout",
          "text": [
            "\n",
            "K-Nearest Neighbors (KNN):\n",
            "              precision    recall  f1-score   support\n",
            "\n",
            "           0       1.00      1.00      1.00        15\n",
            "           1       0.79      1.00      0.88        15\n",
            "           2       1.00      0.73      0.85        15\n",
            "\n",
            "    accuracy                           0.91        45\n",
            "   macro avg       0.93      0.91      0.91        45\n",
            "weighted avg       0.93      0.91      0.91        45\n",
            "\n",
            "Accuracy: 0.9111111111111111\n"
          ]
        }
      ]
    },
    {
      "cell_type": "markdown",
      "source": [
        "4. Decision Tree"
      ],
      "metadata": {
        "id": "7g5mQ-Eudk2T"
      }
    },
    {
      "cell_type": "code",
      "source": [
        "# Train the model\n",
        "dtree = DecisionTreeClassifier()\n",
        "dtree.fit(X_train, y_train)\n",
        "\n",
        "# Predictions and evaluation\n",
        "y_pred = dtree.predict(X_test)\n",
        "print(\"\\nDecision Tree:\")\n",
        "print(classification_report(y_test, y_pred))\n",
        "print(\"Accuracy:\", accuracy_score(y_test, y_pred))"
      ],
      "metadata": {
        "colab": {
          "base_uri": "https://localhost:8080/"
        },
        "id": "s3BB76gldlmq",
        "outputId": "d85c0574-6338-4f07-c7f9-8d9efa263da6"
      },
      "execution_count": 7,
      "outputs": [
        {
          "output_type": "stream",
          "name": "stdout",
          "text": [
            "\n",
            "Decision Tree:\n",
            "              precision    recall  f1-score   support\n",
            "\n",
            "           0       1.00      1.00      1.00        15\n",
            "           1       0.86      0.80      0.83        15\n",
            "           2       0.81      0.87      0.84        15\n",
            "\n",
            "    accuracy                           0.89        45\n",
            "   macro avg       0.89      0.89      0.89        45\n",
            "weighted avg       0.89      0.89      0.89        45\n",
            "\n",
            "Accuracy: 0.8888888888888888\n"
          ]
        }
      ]
    },
    {
      "cell_type": "markdown",
      "source": [
        "5. Random Forest"
      ],
      "metadata": {
        "id": "c3mvWIzddol7"
      }
    },
    {
      "cell_type": "code",
      "source": [
        "# Train the model\n",
        "rf = RandomForestClassifier(n_estimators=100, random_state=42)\n",
        "rf.fit(X_train, y_train)\n",
        "\n",
        "# Predictions and evaluation\n",
        "y_pred = rf.predict(X_test)\n",
        "print(\"\\nRandom Forest:\")\n",
        "print(classification_report(y_test, y_pred))\n",
        "print(\"Accuracy:\", accuracy_score(y_test, y_pred))"
      ],
      "metadata": {
        "colab": {
          "base_uri": "https://localhost:8080/"
        },
        "id": "3KvglDPodn0r",
        "outputId": "f85d43b5-a7ef-4f40-f4e0-21bf86d27222"
      },
      "execution_count": 8,
      "outputs": [
        {
          "output_type": "stream",
          "name": "stdout",
          "text": [
            "\n",
            "Random Forest:\n",
            "              precision    recall  f1-score   support\n",
            "\n",
            "           0       1.00      1.00      1.00        15\n",
            "           1       0.78      0.93      0.85        15\n",
            "           2       0.92      0.73      0.81        15\n",
            "\n",
            "    accuracy                           0.89        45\n",
            "   macro avg       0.90      0.89      0.89        45\n",
            "weighted avg       0.90      0.89      0.89        45\n",
            "\n",
            "Accuracy: 0.8888888888888888\n"
          ]
        }
      ]
    },
    {
      "cell_type": "markdown",
      "source": [
        "6. Gradient Boosting"
      ],
      "metadata": {
        "id": "FkUHt4Wvds-q"
      }
    },
    {
      "cell_type": "code",
      "source": [
        "# Train the model\n",
        "gb = GradientBoostingClassifier(n_estimators=100, random_state=42)\n",
        "gb.fit(X_train, y_train)\n",
        "\n",
        "# Predictions and evaluation\n",
        "y_pred = gb.predict(X_test)\n",
        "print(\"\\nGradient Boosting:\")\n",
        "print(classification_report(y_test, y_pred))\n",
        "print(\"Accuracy:\", accuracy_score(y_test, y_pred))"
      ],
      "metadata": {
        "colab": {
          "base_uri": "https://localhost:8080/"
        },
        "id": "pOQwti_Gduxa",
        "outputId": "091cff89-232f-48e2-8835-fa1084e203be"
      },
      "execution_count": 9,
      "outputs": [
        {
          "output_type": "stream",
          "name": "stdout",
          "text": [
            "\n",
            "Gradient Boosting:\n",
            "              precision    recall  f1-score   support\n",
            "\n",
            "           0       1.00      1.00      1.00        15\n",
            "           1       0.83      1.00      0.91        15\n",
            "           2       1.00      0.80      0.89        15\n",
            "\n",
            "    accuracy                           0.93        45\n",
            "   macro avg       0.94      0.93      0.93        45\n",
            "weighted avg       0.94      0.93      0.93        45\n",
            "\n",
            "Accuracy: 0.9333333333333333\n"
          ]
        }
      ]
    },
    {
      "cell_type": "code",
      "source": [
        "# Train the SVM model\n",
        "svm = SVC(kernel='linear')  # Using a linear kernel for simplicity\n",
        "svm.fit(X_train, y_train)\n",
        "\n",
        "# Predictions and evaluation for SVM\n",
        "y_pred = svm.predict(X_test)\n",
        "print(\"\\nSupport Vector Machine (SVM):\")\n",
        "print(classification_report(y_test, y_pred))\n",
        "print(\"Accuracy:\", accuracy_score(y_test, y_pred))"
      ],
      "metadata": {
        "colab": {
          "base_uri": "https://localhost:8080/"
        },
        "id": "E11T6Wm1eAMM",
        "outputId": "68685aaf-0ae7-4e35-9b05-46705038b7b6"
      },
      "execution_count": 12,
      "outputs": [
        {
          "output_type": "stream",
          "name": "stdout",
          "text": [
            "\n",
            "Support Vector Machine (SVM):\n",
            "              precision    recall  f1-score   support\n",
            "\n",
            "           0       1.00      1.00      1.00        15\n",
            "           1       0.82      0.93      0.88        15\n",
            "           2       0.92      0.80      0.86        15\n",
            "\n",
            "    accuracy                           0.91        45\n",
            "   macro avg       0.92      0.91      0.91        45\n",
            "weighted avg       0.92      0.91      0.91        45\n",
            "\n",
            "Accuracy: 0.9111111111111111\n"
          ]
        }
      ]
    },
    {
      "cell_type": "markdown",
      "source": [
        "Step 5: Compare Model Performance"
      ],
      "metadata": {
        "id": "H0d5NIPYdxp7"
      }
    },
    {
      "cell_type": "code",
      "source": [
        "# Combine results into a table for easier comparison\n",
        "models = ['Logistic Regression', 'KNN', 'SVM', 'Decision Tree', 'Random Forest', 'Gradient Boosting']\n",
        "accuracies = [\n",
        "    accuracy_score(y_test, logreg.predict(X_test)),\n",
        "    accuracy_score(y_test, knn.predict(X_test)),\n",
        "    accuracy_score(y_test, svm.predict(X_test)),\n",
        "    accuracy_score(y_test, dtree.predict(X_test)),\n",
        "    accuracy_score(y_test, rf.predict(X_test)),\n",
        "    accuracy_score(y_test, gb.predict(X_test))\n",
        "]\n",
        "\n",
        "# Create a DataFrame to display results\n",
        "results = pd.DataFrame({'Model': models, 'Accuracy': accuracies})\n",
        "print(\"\\nModel Performance Comparison:\")\n",
        "print(results)\n",
        "\n",
        "# Visualize model performance\n",
        "plt.figure(figsize=(8, 5))\n",
        "sns.barplot(x='Accuracy', y='Model', data=results, palette='viridis')\n",
        "plt.title('Model Accuracy Comparison')\n",
        "plt.xlabel('Accuracy')\n",
        "plt.ylabel('Model')\n",
        "plt.show()"
      ],
      "metadata": {
        "colab": {
          "base_uri": "https://localhost:8080/",
          "height": 643
        },
        "id": "89n9LG8GdzuC",
        "outputId": "ee621b9c-77e5-4832-dc84-f3c5acc5c9a0"
      },
      "execution_count": 13,
      "outputs": [
        {
          "output_type": "stream",
          "name": "stdout",
          "text": [
            "\n",
            "Model Performance Comparison:\n",
            "                 Model  Accuracy\n",
            "0  Logistic Regression  0.911111\n",
            "1                  KNN  0.911111\n",
            "2                  SVM  0.911111\n",
            "3        Decision Tree  0.888889\n",
            "4        Random Forest  0.888889\n",
            "5    Gradient Boosting  0.933333\n"
          ]
        },
        {
          "output_type": "display_data",
          "data": {
            "text/plain": [
              "<Figure size 800x500 with 1 Axes>"
            ],
            "image/png": "[encoded data removed]"
          },
          "metadata": {}
        }
      ]
    },
    {
      "cell_type": "markdown",
      "source": [
        "Conclusion\n",
        "Gradient Boosting is the best-performing model for this dataset, achieving 93.33% accuracy. Logistic Regression, KNN, and SVM also perform well, with slight differences in accuracy. Decision Trees and Random Forests are slightly less effective but still provide reasonable accuracy. Overall, this suggests that the dataset is well-suited to classification tasks, and most models can classify the data effectively."
      ],
      "metadata": {
        "id": "OPenFmY1eVJy"
      }
    }
  ]
}